{
 "cells": [
  {
   "cell_type": "markdown",
   "id": "1e5688f6-d935-47a5-b550-bc14002baca4",
   "metadata": {},
   "source": [
    "![](https://raw.githubusercontent.com/nayot/mathece/refs/heads/main/pics/mathece-ps-banner.webp)\n",
    "\n",
    "# Problem Set Assignment - PS03\n",
    "\n",
    "**คำสั่ง**\n",
    "1. ให้นิสิตทำ Assignment ในไฟล์นี้\n",
    "1. ชื่อไฟล์ .ipynb ต้องอยู่ใน format ต่อไปนี้เท่านั้น การตั้งชื่อไฟล์ผิด จะทำให้ระบบไม่สามารถตรวจได้\n",
    "<รหัสนิสิต>_ps03.ipynb เช่น \n",
    "65050123_ps03.ipynb\n",
    "ให้นิสิตระวังว่าชื่อไฟล์ จะต้องไม่มี white spaces ทั้งก่อนและระหว่างชื่อไฟล์\n",
    "4. เมื่อทำ Assignment เสร็จแล้ว ให้นิสิตตรวจสอบว่าไฟล์ .ipynb มี metadata หรือไม่โดยใช้โปรแกรม file_check วิธีการใช้โปรแกรม file_check ให้นิสิตดูในวิดิโอใน section: Resources หากไฟล์ .ipynb ไม่มี metadata ระบบตรวจงานอัตโนมัติจะไม่สามารถตรวจได้ และนิสิตจะไม่ได้คะแนน\n",
    "5. เสร็จแล้วให้นิสิตส่งงานทาง Google Classroom นี้\n"
   ]
  },
  {
   "cell_type": "markdown",
   "id": "11c36e27-1539-488b-b1bb-eda082e3eaad",
   "metadata": {},
   "source": [
    "**Q1** ให้นิสิตอ่าน dataset ชื่อ scores.csv จาก GitHub: \n",
    "```\n",
    "https://raw.githubusercontent.com/nayot/mathece/refs/heads/main/data/scores.csv\n",
    "```\n",
    "สร้าง correlation matrix ของข้อมูลที่เป็นตัวเลข และเก็บไว้ในตัวแปรชื่อ corr_matrix"
   ]
  },
  {
   "cell_type": "code",
   "execution_count": null,
   "id": "6ceb54ba-017b-4b6e-a3e9-26aadbe10f5c",
   "metadata": {
    "deletable": false,
    "nbgrader": {
     "cell_type": "code",
     "checksum": "451c08c2673c9b06a3e5251f82134764",
     "grade": false,
     "grade_id": "Q1",
     "locked": false,
     "schema_version": 3,
     "solution": true,
     "task": false
    }
   },
   "outputs": [],
   "source": [
    "import pandas as pd\n",
    "import seaborn as sns\n",
    "import matplotlib.pyplot as plt\n",
    "\n",
    "data_url = 'https://raw.githubusercontent.com/nayot/mathece/refs/heads/main/data/scores.csv'\n",
    "\n",
    "corr_matrix = ...\n",
    "\n",
    "# YOUR CODE HERE\n",
    "raise NotImplementedError()"
   ]
  },
  {
   "cell_type": "code",
   "execution_count": null,
   "id": "3e626abb-17ea-42d2-85b3-2920e1cd2d51",
   "metadata": {
    "deletable": false,
    "editable": false,
    "nbgrader": {
     "cell_type": "code",
     "checksum": "633db54abc8d5ee7cae1b87612f08a4b",
     "grade": true,
     "grade_id": "Q1_test",
     "locked": true,
     "points": 3,
     "schema_version": 3,
     "solution": false,
     "task": false
    }
   },
   "outputs": [],
   "source": [
    "# ห้ามแก้ไข Cell นี้โดยเด็ดขาด\n",
    "print('Your answer')\n",
    "corr_matrix"
   ]
  },
  {
   "cell_type": "markdown",
   "id": "8e7b983d-4221-4be8-9733-a907acc8e3cf",
   "metadata": {},
   "source": [
    "**Q2** ใช้ Seaborn ในการสร้าง Scatter Plot ระหว่าง math score และ writing score โดยให้ใช้ gender เป็น hue factor สำหรับการแยกกลุ่มข้อมูล และให้เก็บผลลัพธ์ของ plot ไว้ในตัวแปรชื่อ scatter_plot เช่น scatter_plot = sns.scatterplot(...)"
   ]
  },
  {
   "cell_type": "code",
   "execution_count": null,
   "id": "3397f2a0-4ab0-4dd2-af38-0fa8b282a282",
   "metadata": {
    "deletable": false,
    "nbgrader": {
     "cell_type": "code",
     "checksum": "c2d3a57b9a6c1bb36b081f26753525e0",
     "grade": false,
     "grade_id": "Q2",
     "locked": false,
     "schema_version": 3,
     "solution": true,
     "task": false
    }
   },
   "outputs": [],
   "source": [
    "# YOUR CODE HERE\n",
    "raise NotImplementedError()"
   ]
  },
  {
   "cell_type": "code",
   "execution_count": null,
   "id": "ad585b42-fa94-4819-8ad5-ec03752d03c5",
   "metadata": {
    "deletable": false,
    "editable": false,
    "nbgrader": {
     "cell_type": "code",
     "checksum": "be7fd17b72730e163501bab051f11872",
     "grade": true,
     "grade_id": "Q2_test",
     "locked": true,
     "points": 3,
     "schema_version": 3,
     "solution": false,
     "task": false
    }
   },
   "outputs": [],
   "source": [
    "# ห้ามแก้ไข Cell นี้โดยเด็ดขาด"
   ]
  },
  {
   "cell_type": "markdown",
   "id": "20049385-6b27-4f11-8120-0657c9e370b0",
   "metadata": {},
   "source": [
    "**Q3** สร้าง Heat Map สำหรับ Correlation Matrix ใน Q1 โดยให้แสดงตัวเลข Correlation Coefficient กำหนดค่า limit ของข้อมูลที่แสดงเป็น (-1, 1) และใช้สีที่แตกต่างกันสำหรับ Positive และ Negative Coefficient (ค่าบวกให้ใช้โทนสีเดียวกัน)\n",
    "\n",
    "ให้เก็บผลลัพธ์ของ Plot ไว้ในตัวแปรชื่อ heat_map เช่น heat_map = sns.heatmap(...)"
   ]
  },
  {
   "cell_type": "code",
   "execution_count": null,
   "id": "30569fe7-2bd8-4615-bc81-38c0751194c3",
   "metadata": {
    "deletable": false,
    "nbgrader": {
     "cell_type": "code",
     "checksum": "3102c42f0902da55af08fa0975c9ebe3",
     "grade": false,
     "grade_id": "Q3",
     "locked": false,
     "schema_version": 3,
     "solution": true,
     "task": false
    }
   },
   "outputs": [],
   "source": [
    "# YOUR CODE HERE\n",
    "raise NotImplementedError()"
   ]
  },
  {
   "cell_type": "code",
   "execution_count": null,
   "id": "590ac798-03a0-4926-a36a-569b93e88778",
   "metadata": {
    "deletable": false,
    "editable": false,
    "nbgrader": {
     "cell_type": "code",
     "checksum": "b7082f8c329332e7ac6b5ac6174c6288",
     "grade": true,
     "grade_id": "Q3_test",
     "locked": true,
     "points": 4,
     "schema_version": 3,
     "solution": false,
     "task": false
    }
   },
   "outputs": [],
   "source": [
    "# ห้ามแก้ไข Cell นี้โดยเด็ดขาด"
   ]
  }
 ],
 "metadata": {
  "kernelspec": {
   "display_name": "python3",
   "language": "python",
   "name": "python3"
  },
  "language_info": {
   "codemirror_mode": {
    "name": "ipython",
    "version": 3
   },
   "file_extension": ".py",
   "mimetype": "text/x-python",
   "name": "python",
   "nbconvert_exporter": "python",
   "pygments_lexer": "ipython3",
   "version": "3.12.7"
  }
 },
 "nbformat": 4,
 "nbformat_minor": 5
}
